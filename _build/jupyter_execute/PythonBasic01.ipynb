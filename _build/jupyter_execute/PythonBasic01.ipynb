{
 "cells": [
  {
   "cell_type": "markdown",
   "id": "cdd5df19",
   "metadata": {},
   "source": [
    "# Let's start\n",
    "\n",
    "To start Python, let us begin with some elementary mathematical calculation which otherwise can be done by hand or at best by a simple pocket calculator, if the calculation is big one. This does not require any previous experience of coding nor one need to remember any uncomfortable syntax.\n",
    "\n",
    "\n",
    "## Python as a calculator\n",
    "\n",
    "Let us start with writing a few algebric expressions and wait to see how python interpreter responds to it. The syntax is straightforward. One has to just type the expression in the cell and hit `run` or `ctrl+enter` or `shift+enter` from menu bar.\n",
    "\n",
    "But, before that let us acquiant ourselves with the arithmetic Operators in Python, which are\n",
    "addition `+`, subtraction `-`, multiplication `*`, division `/`, integer division `//`, modulo operator `%`, power `**`\n",
    "________________________________________________\n",
    "\n",
    "\n",
    "|   |   |\n",
    "|:---:|:---|\n",
    "| $x+y$  |  Addition |\n",
    "| $x-y$  | Subtraction  |\n",
    "|$x*y$   | Multiplication|\n",
    "|$x/y$   | Division      |\n",
    "|$x**y$  | Raising $x$ to the power $y$|\n",
    "|$x//y$  | Integer Division (result is rounded to nearest integer)|\n",
    "|$x\\%y$   | Modulo (the remainder, after x is divided by y)|"
   ]
  },
  {
   "cell_type": "code",
   "execution_count": 1,
   "id": "e52732f7",
   "metadata": {},
   "outputs": [
    {
     "data": {
      "text/plain": [
       "5"
      ]
     },
     "execution_count": 1,
     "metadata": {},
     "output_type": "execute_result"
    }
   ],
   "source": [
    "2 + 3"
   ]
  },
  {
   "cell_type": "code",
   "execution_count": 2,
   "id": "ad451b03",
   "metadata": {},
   "outputs": [
    {
     "data": {
      "text/plain": [
       "1"
      ]
     },
     "execution_count": 2,
     "metadata": {},
     "output_type": "execute_result"
    }
   ],
   "source": [
    "4 - 3"
   ]
  },
  {
   "cell_type": "code",
   "execution_count": 3,
   "id": "18f38f02",
   "metadata": {},
   "outputs": [
    {
     "data": {
      "text/plain": [
       "12"
      ]
     },
     "execution_count": 3,
     "metadata": {},
     "output_type": "execute_result"
    }
   ],
   "source": [
    "4*3"
   ]
  },
  {
   "cell_type": "code",
   "execution_count": 4,
   "id": "6a8dc971",
   "metadata": {},
   "outputs": [
    {
     "data": {
      "text/plain": [
       "1.3333333333333333"
      ]
     },
     "execution_count": 4,
     "metadata": {},
     "output_type": "execute_result"
    }
   ],
   "source": [
    "4/3      # Division always returns a floating point number"
   ]
  },
  {
   "cell_type": "markdown",
   "id": "07d423cb",
   "metadata": {},
   "source": [
    "Anything written after `#` is not implemented by the interpreter and is used to write comment in a code. Writing comment, whenever necessary is considered as a very good coding practise.\n",
    "\n",
    "If one wants to discard the fractional part and retains the integer, there is another operator `//`."
   ]
  },
  {
   "cell_type": "code",
   "execution_count": 5,
   "id": "a0d0864d",
   "metadata": {},
   "outputs": [
    {
     "data": {
      "text/plain": [
       "1"
      ]
     },
     "execution_count": 5,
     "metadata": {},
     "output_type": "execute_result"
    }
   ],
   "source": [
    "4//3 # Integer division or floor division discards fractional part and retains only integer"
   ]
  },
  {
   "cell_type": "markdown",
   "id": "85d2410b",
   "metadata": {},
   "source": [
    "We may find the remainder in a division using modulo `%` operator. This will prove to be very useful in some cases."
   ]
  },
  {
   "cell_type": "code",
   "execution_count": 6,
   "id": "7625c140",
   "metadata": {},
   "outputs": [
    {
     "data": {
      "text/plain": [
       "3"
      ]
     },
     "execution_count": 6,
     "metadata": {},
     "output_type": "execute_result"
    }
   ],
   "source": [
    "8%5"
   ]
  },
  {
   "cell_type": "markdown",
   "id": "51af4f9e",
   "metadata": {},
   "source": [
    "To calculate power, we use `**`"
   ]
  },
  {
   "cell_type": "code",
   "execution_count": 7,
   "id": "9364dfb4",
   "metadata": {},
   "outputs": [
    {
     "data": {
      "text/plain": [
       "32"
      ]
     },
     "execution_count": 7,
     "metadata": {},
     "output_type": "execute_result"
    }
   ],
   "source": [
    "2**5\t\t# '**' represents 2 raised to the power 5"
   ]
  },
  {
   "cell_type": "markdown",
   "id": "e5a09844",
   "metadata": {},
   "source": [
    "In interactive mode, the last printed expression is assigned to the variable `_`. "
   ]
  },
  {
   "cell_type": "code",
   "execution_count": 8,
   "id": "0030cc1f",
   "metadata": {},
   "outputs": [
    {
     "data": {
      "text/plain": [
       "5"
      ]
     },
     "execution_count": 8,
     "metadata": {},
     "output_type": "execute_result"
    }
   ],
   "source": [
    "2 + 3"
   ]
  },
  {
   "cell_type": "code",
   "execution_count": 9,
   "id": "2728796e",
   "metadata": {},
   "outputs": [
    {
     "data": {
      "text/plain": [
       "11"
      ]
     },
     "execution_count": 9,
     "metadata": {},
     "output_type": "execute_result"
    }
   ],
   "source": [
    "_ + 6"
   ]
  },
  {
   "cell_type": "markdown",
   "id": "1f5194a3",
   "metadata": {},
   "source": [
    "Let us consider another example."
   ]
  },
  {
   "cell_type": "code",
   "execution_count": 10,
   "id": "a0d930b6",
   "metadata": {
    "scrolled": true
   },
   "outputs": [
    {
     "data": {
      "text/plain": [
       "2.4285714285714284"
      ]
     },
     "execution_count": 10,
     "metadata": {},
     "output_type": "execute_result"
    }
   ],
   "source": [
    "17/7"
   ]
  },
  {
   "cell_type": "code",
   "execution_count": 11,
   "id": "dfe12892",
   "metadata": {},
   "outputs": [
    {
     "data": {
      "text/plain": [
       "2.429"
      ]
     },
     "execution_count": 11,
     "metadata": {},
     "output_type": "execute_result"
    }
   ],
   "source": [
    "round(_, 3)"
   ]
  },
  {
   "cell_type": "markdown",
   "id": "1bdd2ed5",
   "metadata": {},
   "source": [
    "`round()` function restricts the number of places of decimals."
   ]
  },
  {
   "cell_type": "markdown",
   "id": "0e1c1479",
   "metadata": {},
   "source": [
    "## Rules of algebric operation\n",
    "\n",
    "1.  Rules of algebric operations are obeyed in Python.\n",
    "2.  If there are more than one multipliations or divisions, operatons are perforformed from left to right.\n",
    "3.  Several algebric operations can be combined together to write more complicated algebric operation in Python.\n",
    "4.  Use parenthesis () to mark things that should be evaluated as unit."
   ]
  },
  {
   "cell_type": "code",
   "execution_count": 12,
   "id": "6ee0c062",
   "metadata": {},
   "outputs": [
    {
     "data": {
      "text/plain": [
       "-1.0"
      ]
     },
     "execution_count": 12,
     "metadata": {},
     "output_type": "execute_result"
    }
   ],
   "source": [
    "2*6/3 - 5"
   ]
  },
  {
   "cell_type": "code",
   "execution_count": 13,
   "id": "9aae8cf6",
   "metadata": {},
   "outputs": [
    {
     "data": {
      "text/plain": [
       "-10"
      ]
     },
     "execution_count": 13,
     "metadata": {},
     "output_type": "execute_result"
    }
   ],
   "source": [
    "2*(8-3) - 4*5"
   ]
  },
  {
   "cell_type": "code",
   "execution_count": 14,
   "id": "fc50a873",
   "metadata": {},
   "outputs": [
    {
     "data": {
      "text/plain": [
       "-2.0"
      ]
     },
     "execution_count": 14,
     "metadata": {},
     "output_type": "execute_result"
    }
   ],
   "source": [
    "(2*3 - 6/2) - (10 - 5)"
   ]
  },
  {
   "cell_type": "markdown",
   "id": "d42ce091",
   "metadata": {},
   "source": [
    "Operators with mixed type operands convert the integer operand to floating point."
   ]
  },
  {
   "cell_type": "code",
   "execution_count": 15,
   "id": "a1b3e28d",
   "metadata": {},
   "outputs": [
    {
     "data": {
      "text/plain": [
       "5.357142857142858"
      ]
     },
     "execution_count": 15,
     "metadata": {},
     "output_type": "execute_result"
    }
   ],
   "source": [
    "2*3.75/1.4"
   ]
  },
  {
   "cell_type": "code",
   "execution_count": 16,
   "id": "b42d3b3f",
   "metadata": {},
   "outputs": [
    {
     "data": {
      "text/plain": [
       "12"
      ]
     },
     "execution_count": 16,
     "metadata": {},
     "output_type": "execute_result"
    }
   ],
   "source": [
    "2*3 + 6"
   ]
  },
  {
   "cell_type": "code",
   "execution_count": 17,
   "id": "a32e7d0f",
   "metadata": {},
   "outputs": [
    {
     "data": {
      "text/plain": [
       "18"
      ]
     },
     "execution_count": 17,
     "metadata": {},
     "output_type": "execute_result"
    }
   ],
   "source": [
    "2*(3 + 6)"
   ]
  },
  {
   "cell_type": "code",
   "execution_count": 18,
   "id": "480b4bd0",
   "metadata": {},
   "outputs": [
    {
     "ename": "SyntaxError",
     "evalue": "unexpected EOF while parsing (<ipython-input-18-316c0c469c43>, line 1)",
     "output_type": "error",
     "traceback": [
      "\u001b[1;36m  File \u001b[1;32m\"<ipython-input-18-316c0c469c43>\"\u001b[1;36m, line \u001b[1;32m1\u001b[0m\n\u001b[1;33m    2*(3 + 6\u001b[0m\n\u001b[1;37m            ^\u001b[0m\n\u001b[1;31mSyntaxError\u001b[0m\u001b[1;31m:\u001b[0m unexpected EOF while parsing\n"
     ]
    }
   ],
   "source": [
    "2*(3 + 6"
   ]
  },
  {
   "cell_type": "markdown",
   "id": "cb3462e1",
   "metadata": {},
   "source": [
    "### Python Modifiers\n",
    "\n",
    "This is an useful trick available with Python when we want change the value of a variable.\n",
    "\n",
    "|    |    |    |  \n",
    "|:---|:---|:---|\n",
    "|x += 1 | x = x + 1 | update the value of x by adding 1|\n",
    "|x -= 1 | x = x - 1 | update the value of x by subtracting 1|\n",
    "|x *= 2.5 | x = x*2.5 | update the value of x by multiplying 2.5 |\n",
    "|x /= 2.5 | x = x/2.5 | update the value of x by dividing 2.5 |\n",
    "|x //= 2.5 | x = x//2.5 | update the value of x by dividing 2.5 and round down to an integer|"
   ]
  },
  {
   "cell_type": "code",
   "execution_count": 8,
   "id": "a580269e",
   "metadata": {},
   "outputs": [
    {
     "data": {
      "text/plain": [
       "11"
      ]
     },
     "execution_count": 8,
     "metadata": {},
     "output_type": "execute_result"
    }
   ],
   "source": [
    "x = 10\n",
    "x += 1\n",
    "x"
   ]
  },
  {
   "cell_type": "code",
   "execution_count": 9,
   "id": "a2510710",
   "metadata": {},
   "outputs": [
    {
     "data": {
      "text/plain": [
       "9"
      ]
     },
     "execution_count": 9,
     "metadata": {},
     "output_type": "execute_result"
    }
   ],
   "source": [
    "x = 10\n",
    "x -= 1\n",
    "x"
   ]
  },
  {
   "cell_type": "code",
   "execution_count": 10,
   "id": "502c447f",
   "metadata": {},
   "outputs": [
    {
     "data": {
      "text/plain": [
       "50"
      ]
     },
     "execution_count": 10,
     "metadata": {},
     "output_type": "execute_result"
    }
   ],
   "source": [
    "x = 10\n",
    "x *= 5\n",
    "x"
   ]
  },
  {
   "cell_type": "code",
   "execution_count": 11,
   "id": "be29a3ff",
   "metadata": {},
   "outputs": [
    {
     "data": {
      "text/plain": [
       "2.0"
      ]
     },
     "execution_count": 11,
     "metadata": {},
     "output_type": "execute_result"
    }
   ],
   "source": [
    "x = 10\n",
    "x /= 5\n",
    "x"
   ]
  },
  {
   "cell_type": "code",
   "execution_count": 12,
   "id": "ca8e942d",
   "metadata": {},
   "outputs": [
    {
     "data": {
      "text/plain": [
       "2"
      ]
     },
     "execution_count": 12,
     "metadata": {},
     "output_type": "execute_result"
    }
   ],
   "source": [
    "x = 10\n",
    "x //= 4\n",
    "x"
   ]
  },
  {
   "cell_type": "markdown",
   "id": "449e005c",
   "metadata": {},
   "source": [
    "### Complex number algebra\n",
    "\n",
    "The algebric operation with complex numbers are supported by python. A complex number $z = a + jb$ where, $a = 2$ and $b = 3$ can be written as"
   ]
  },
  {
   "cell_type": "code",
   "execution_count": 4,
   "id": "5ba67e4d",
   "metadata": {},
   "outputs": [
    {
     "data": {
      "text/plain": [
       "(2+3j)"
      ]
     },
     "execution_count": 4,
     "metadata": {},
     "output_type": "execute_result"
    }
   ],
   "source": [
    "z = 2 + 3j; z"
   ]
  },
  {
   "cell_type": "markdown",
   "id": "dd5323a2",
   "metadata": {},
   "source": [
    "We can write capital `J` also instead of small `j`. We can further represent `z` as `z = complex(a, b)`."
   ]
  },
  {
   "cell_type": "code",
   "execution_count": 5,
   "id": "f7ad8276",
   "metadata": {},
   "outputs": [
    {
     "data": {
      "text/plain": [
       "(2+3j)"
      ]
     },
     "execution_count": 5,
     "metadata": {},
     "output_type": "execute_result"
    }
   ],
   "source": [
    "z = complex(2, 3); z"
   ]
  },
  {
   "cell_type": "markdown",
   "id": "f9bed193",
   "metadata": {},
   "source": [
    "Addition/ Subtraction/ Multiplication/Division of two complex numbers `z1 = a + jb` and `z2 = c + jd` can be performed."
   ]
  },
  {
   "cell_type": "code",
   "execution_count": 6,
   "id": "34b38102",
   "metadata": {},
   "outputs": [
    {
     "data": {
      "text/plain": [
       "(3+5j)"
      ]
     },
     "execution_count": 6,
     "metadata": {},
     "output_type": "execute_result"
    }
   ],
   "source": [
    "z1 = 1 + 2j\n",
    "z2 = 2 + 3j\n",
    "\n",
    "z = z1 + z2; z"
   ]
  },
  {
   "cell_type": "code",
   "execution_count": 9,
   "id": "3f1d5704",
   "metadata": {},
   "outputs": [
    {
     "data": {
      "text/plain": [
       "(7-9j)"
      ]
     },
     "execution_count": 9,
     "metadata": {},
     "output_type": "execute_result"
    }
   ],
   "source": [
    "z1 = 5 - 6j\n",
    "z2 = -2 + 3j\n",
    "\n",
    "z = z1 - z2; z"
   ]
  },
  {
   "cell_type": "code",
   "execution_count": 8,
   "id": "182d6ecf",
   "metadata": {},
   "outputs": [
    {
     "data": {
      "text/plain": [
       "(-11+62j)"
      ]
     },
     "execution_count": 8,
     "metadata": {},
     "output_type": "execute_result"
    }
   ],
   "source": [
    "z1 = 5 - 6j\n",
    "z2 = -7 + 4j\n",
    "\n",
    "z = z1*z2; z"
   ]
  },
  {
   "cell_type": "code",
   "execution_count": 10,
   "id": "dfc3731d",
   "metadata": {},
   "outputs": [
    {
     "data": {
      "text/plain": [
       "(-0.5384615384615384+0.30769230769230776j)"
      ]
     },
     "execution_count": 10,
     "metadata": {},
     "output_type": "execute_result"
    }
   ],
   "source": [
    "z1 = 1 - 2j\n",
    "z2 = -3 + 2j\n",
    "\n",
    "z = z1/z2; z"
   ]
  },
  {
   "cell_type": "markdown",
   "id": "baf057cb",
   "metadata": {},
   "source": [
    "To extract real and imaginary part from a complex number `z`, we use `z.real` and `z.imag`"
   ]
  },
  {
   "cell_type": "code",
   "execution_count": 2,
   "id": "2ccab071",
   "metadata": {},
   "outputs": [
    {
     "data": {
      "text/plain": [
       "(1.0, 2.0)"
      ]
     },
     "execution_count": 2,
     "metadata": {},
     "output_type": "execute_result"
    }
   ],
   "source": [
    "z = 1 + 2j\n",
    "z.real, z.imag"
   ]
  },
  {
   "cell_type": "markdown",
   "id": "a10a94fb",
   "metadata": {},
   "source": [
    "Modulus or absolute value of a complex number $z = A + jb$, given by $\\sqrt{(a^2 + b^2)}$ can be calculated."
   ]
  },
  {
   "cell_type": "code",
   "execution_count": 3,
   "id": "ea17859b",
   "metadata": {},
   "outputs": [
    {
     "data": {
      "text/plain": [
       "2.23606797749979"
      ]
     },
     "execution_count": 3,
     "metadata": {},
     "output_type": "execute_result"
    }
   ],
   "source": [
    "abs(z) "
   ]
  },
  {
   "cell_type": "markdown",
   "id": "d221e2bc",
   "metadata": {},
   "source": [
    "## Variable\n",
    "\n",
    "It is the name of a physical quantity. Say, the temperature at a place is $50^{\\circ} C$. We can define a name `temp` and assign the numerical value to it. In that case, the name `temp` is called a variable representing temperature and we write `temp = 50`. Besides being a single number, a variable may represent a set of numbers like vectors or it may represent a matrix also.\n",
    "\n",
    "### Naming variables\n",
    "\n",
    "Variable names in Python can contain alphanumerical characters a-z, A-Z, 0-9 and some special characters such as \\_ . Normal variable names must start with a letter.\n",
    "\n",
    "But, *Python keywords cannot be used as variable names*.\n",
    "\n",
    "### Variable Types\n",
    "\n",
    "1.  **Integer** - Integer variable can take integer values only (both positive and negative) like 1, 0, -258, but not fractional values like 1.5\n",
    "\n",
    "2.  **Float** - A floating-point variable can take real numbers like 3.141, $6.63\\times10^{-34}$, 1.0. A floating-point variable can take an integer value 1 like 1.0, but an integer variable can not take non-integer value.\n",
    "\n",
    "3.  **Complex** - A complex variable can take only complex numbers like 1 + 2j or -3.5 - 2.1j\n",
    "\n",
    "4.  **String** - Any letter, combination of letters i.e. word (may be meaningful or may not be !!!), sentence or numbers within quote represent string.\n",
    "\n",
    "What is the type of a variable? To know, we use `type` function."
   ]
  },
  {
   "cell_type": "markdown",
   "id": "4ff9e508",
   "metadata": {},
   "source": []
  },
  {
   "cell_type": "code",
   "execution_count": 27,
   "id": "aa8ae3a7",
   "metadata": {},
   "outputs": [
    {
     "data": {
      "text/plain": [
       "int"
      ]
     },
     "execution_count": 27,
     "metadata": {},
     "output_type": "execute_result"
    }
   ],
   "source": [
    "x = 1; type(x)"
   ]
  },
  {
   "cell_type": "code",
   "execution_count": 28,
   "id": "074ba189",
   "metadata": {},
   "outputs": [
    {
     "data": {
      "text/plain": [
       "float"
      ]
     },
     "execution_count": 28,
     "metadata": {},
     "output_type": "execute_result"
    }
   ],
   "source": [
    "y = 1.2; type(y)"
   ]
  },
  {
   "cell_type": "code",
   "execution_count": 29,
   "id": "4f4f8313",
   "metadata": {},
   "outputs": [
    {
     "data": {
      "text/plain": [
       "complex"
      ]
     },
     "execution_count": 29,
     "metadata": {},
     "output_type": "execute_result"
    }
   ],
   "source": [
    "z = 1 + 2j; type(z)"
   ]
  },
  {
   "cell_type": "code",
   "execution_count": 32,
   "id": "3ae7fd97",
   "metadata": {},
   "outputs": [
    {
     "data": {
      "text/plain": [
       "str"
      ]
     },
     "execution_count": 32,
     "metadata": {},
     "output_type": "execute_result"
    }
   ],
   "source": [
    "x = 'a'; type(x)"
   ]
  },
  {
   "cell_type": "code",
   "execution_count": 34,
   "id": "273cd2a1",
   "metadata": {},
   "outputs": [
    {
     "data": {
      "text/plain": [
       "str"
      ]
     },
     "execution_count": 34,
     "metadata": {},
     "output_type": "execute_result"
    }
   ],
   "source": [
    "x = 'Hello !!! Python ...'; type(x)"
   ]
  },
  {
   "cell_type": "code",
   "execution_count": 35,
   "id": "9864a180",
   "metadata": {},
   "outputs": [
    {
     "data": {
      "text/plain": [
       "str"
      ]
     },
     "execution_count": 35,
     "metadata": {},
     "output_type": "execute_result"
    }
   ],
   "source": [
    "x = \"123\"; type(x)"
   ]
  },
  {
   "cell_type": "code",
   "execution_count": 9,
   "id": "21506eed",
   "metadata": {},
   "outputs": [
    {
     "data": {
      "text/plain": [
       "6"
      ]
     },
     "execution_count": 9,
     "metadata": {},
     "output_type": "execute_result"
    }
   ],
   "source": [
    "x = 2\n",
    "y = 3\n",
    "x*y"
   ]
  },
  {
   "cell_type": "markdown",
   "id": "01398f9a",
   "metadata": {},
   "source": [
    "### Algebric operations with mixed data type\n",
    "\n",
    "The general rule -\n",
    "\n",
    "$$a+b=c$$\n",
    "\n",
    "|Input($a$)|Input($b$)|Output($c$)|\n",
    "|:---|:---|:---|\n",
    "|integer|integer|integer|\n",
    "|integer|float|float|\n",
    "|integer|complex|complex|\n",
    "|float|complex|complex|"
   ]
  },
  {
   "cell_type": "code",
   "execution_count": 47,
   "id": "f82a72b8",
   "metadata": {},
   "outputs": [
    {
     "data": {
      "text/plain": [
       "(4, int)"
      ]
     },
     "execution_count": 47,
     "metadata": {},
     "output_type": "execute_result"
    }
   ],
   "source": [
    "x = 2 + 2\n",
    "x, type(x)"
   ]
  },
  {
   "cell_type": "code",
   "execution_count": 20,
   "id": "f54b7168",
   "metadata": {},
   "outputs": [
    {
     "data": {
      "text/plain": [
       "(4.0, float)"
      ]
     },
     "execution_count": 20,
     "metadata": {},
     "output_type": "execute_result"
    }
   ],
   "source": [
    "x = 2 + 2.0\n",
    "x, type(x)"
   ]
  },
  {
   "cell_type": "code",
   "execution_count": 21,
   "id": "832f31d6",
   "metadata": {},
   "outputs": [
    {
     "data": {
      "text/plain": [
       "((4+2j), complex)"
      ]
     },
     "execution_count": 21,
     "metadata": {},
     "output_type": "execute_result"
    }
   ],
   "source": [
    "x = 2 + (2 + 2j)\n",
    "x, type(x)"
   ]
  },
  {
   "cell_type": "code",
   "execution_count": 22,
   "id": "dc148a80",
   "metadata": {},
   "outputs": [
    {
     "data": {
      "text/plain": [
       "((4+2j), complex)"
      ]
     },
     "execution_count": 22,
     "metadata": {},
     "output_type": "execute_result"
    }
   ],
   "source": [
    "x = 2.0 + (2 + 2j)\n",
    "x, type(x)"
   ]
  },
  {
   "cell_type": "markdown",
   "id": "467e891c",
   "metadata": {},
   "source": [
    "### Variable assignment\n",
    "\n",
    "`x = 2` represents variable assignement. We may imagine it to be a kind of a container, labelled as `x`, where its numerical values are stored and whenever, it is required we can retrieve its value. Python is a *dynamically typed language*, so we do not need to specify the type of a variable when we create one. Assigning a value to a new variable creates the variable."
   ]
  },
  {
   "cell_type": "markdown",
   "id": "5dc3ecc8",
   "metadata": {},
   "source": [
    "A value can be assigned to several variables simultaneously."
   ]
  },
  {
   "cell_type": "code",
   "execution_count": 10,
   "id": "05a92d80",
   "metadata": {},
   "outputs": [
    {
     "data": {
      "text/plain": [
       "(5, 5, 5)"
      ]
     },
     "execution_count": 10,
     "metadata": {},
     "output_type": "execute_result"
    }
   ],
   "source": [
    "x = y = z = 5\n",
    "x, y, z"
   ]
  },
  {
   "cell_type": "markdown",
   "id": "277ce397",
   "metadata": {},
   "source": [
    "A variable must be assigned before it is used. Say, the variable `a` has not been defined beforehand. If we try to print its value, it will flag a error message."
   ]
  },
  {
   "cell_type": "code",
   "execution_count": 12,
   "id": "ecfe5976",
   "metadata": {},
   "outputs": [
    {
     "ename": "NameError",
     "evalue": "name 'a' is not defined",
     "output_type": "error",
     "traceback": [
      "\u001b[1;31m---------------------------------------------------------------------------\u001b[0m",
      "\u001b[1;31mNameError\u001b[0m                                 Traceback (most recent call last)",
      "\u001b[1;32m<ipython-input-12-3f786850e387>\u001b[0m in \u001b[0;36m<module>\u001b[1;34m\u001b[0m\n\u001b[1;32m----> 1\u001b[1;33m \u001b[0ma\u001b[0m\u001b[1;33m\u001b[0m\u001b[1;33m\u001b[0m\u001b[0m\n\u001b[0m",
      "\u001b[1;31mNameError\u001b[0m: name 'a' is not defined"
     ]
    }
   ],
   "source": [
    "a"
   ]
  },
  {
   "cell_type": "markdown",
   "id": "f87f3a49",
   "metadata": {},
   "source": [
    "###  Special feature about Python\n",
    "\n",
    "Assigning the values of two variables in a single statement sequentially. For example,\n",
    "\n",
    "```python\n",
    "x, y = 2, 3\n",
    "```\n",
    "    \n",
    "\n",
    "  is equivalent as\n",
    "\n",
    "```python\n",
    "x = 2\n",
    "y = 3\n",
    " ```\n",
    "\n",
    "This feature enables **swapping** the values of two variables in a single statement."
   ]
  },
  {
   "cell_type": "code",
   "execution_count": 14,
   "id": "ae3c3103",
   "metadata": {},
   "outputs": [
    {
     "name": "stdout",
     "output_type": "stream",
     "text": [
      "Before swapping\n",
      "1   2\n",
      "After swapping\n",
      "2   1\n"
     ]
    }
   ],
   "source": [
    "# Swapping variables\n",
    "print(\"Before swapping\")\n",
    "x, y = 1, 2\n",
    "print(x, y, sep=\"   \")\n",
    "\n",
    "print(\"After swapping\")\n",
    "\n",
    "x, y = y, x             # swapping line\n",
    "print(x, y, sep=\"   \")"
   ]
  },
  {
   "cell_type": "markdown",
   "id": "d28ab8c6",
   "metadata": {},
   "source": [
    "### Type Casting\n",
    "It is a method of changing a variable from one data type to another. "
   ]
  },
  {
   "cell_type": "code",
   "execution_count": 36,
   "id": "73a987e4",
   "metadata": {},
   "outputs": [
    {
     "data": {
      "text/plain": [
       "float"
      ]
     },
     "execution_count": 36,
     "metadata": {},
     "output_type": "execute_result"
    }
   ],
   "source": [
    "x = 1.2; type(x)"
   ]
  },
  {
   "cell_type": "code",
   "execution_count": 37,
   "id": "6f31813a",
   "metadata": {},
   "outputs": [
    {
     "data": {
      "text/plain": [
       "int"
      ]
     },
     "execution_count": 37,
     "metadata": {},
     "output_type": "execute_result"
    }
   ],
   "source": [
    "x = int(1.2); type(x)"
   ]
  },
  {
   "cell_type": "code",
   "execution_count": 42,
   "id": "2668e471",
   "metadata": {},
   "outputs": [
    {
     "data": {
      "text/plain": [
       "(complex, (1.2+0j))"
      ]
     },
     "execution_count": 42,
     "metadata": {},
     "output_type": "execute_result"
    }
   ],
   "source": [
    "x = complex(1.2)\n",
    "type(x), x"
   ]
  },
  {
   "cell_type": "markdown",
   "id": "198bf670",
   "metadata": {},
   "source": [
    "So, `complex` has converted the type of `1.2`, which is a floating point number and the final representation of `x` is `1.2 + 0j`."
   ]
  },
  {
   "cell_type": "code",
   "execution_count": 38,
   "id": "ef211726",
   "metadata": {},
   "outputs": [
    {
     "data": {
      "text/plain": [
       "complex"
      ]
     },
     "execution_count": 38,
     "metadata": {},
     "output_type": "execute_result"
    }
   ],
   "source": [
    "z = 1 + 2j; type(z)"
   ]
  },
  {
   "cell_type": "code",
   "execution_count": 39,
   "id": "8995d867",
   "metadata": {},
   "outputs": [
    {
     "ename": "TypeError",
     "evalue": "can't convert complex to float",
     "output_type": "error",
     "traceback": [
      "\u001b[1;31m---------------------------------------------------------------------------\u001b[0m",
      "\u001b[1;31mTypeError\u001b[0m                                 Traceback (most recent call last)",
      "\u001b[1;32m<ipython-input-39-8e4f7bac25a2>\u001b[0m in \u001b[0;36m<module>\u001b[1;34m\u001b[0m\n\u001b[1;32m----> 1\u001b[1;33m \u001b[0mz\u001b[0m \u001b[1;33m=\u001b[0m \u001b[0mfloat\u001b[0m\u001b[1;33m(\u001b[0m\u001b[1;36m1\u001b[0m \u001b[1;33m+\u001b[0m \u001b[1;36m2j\u001b[0m\u001b[1;33m)\u001b[0m\u001b[1;33m;\u001b[0m \u001b[0mtype\u001b[0m\u001b[1;33m(\u001b[0m\u001b[0mz\u001b[0m\u001b[1;33m)\u001b[0m\u001b[1;33m\u001b[0m\u001b[1;33m\u001b[0m\u001b[0m\n\u001b[0m",
      "\u001b[1;31mTypeError\u001b[0m: can't convert complex to float"
     ]
    }
   ],
   "source": [
    "z = float(1 + 2j); type(z)"
   ]
  },
  {
   "cell_type": "markdown",
   "id": "ec7a0316",
   "metadata": {},
   "source": [
    "A `type` conversion converts a variable into more general type. Since, a complex number is more general than real or floating point number, therefore, a floating point variable can be converted to complex variable, but reverse is not possible."
   ]
  },
  {
   "cell_type": "markdown",
   "id": "43f45603",
   "metadata": {},
   "source": [
    "##  Data Type\n",
    "\n",
    "Data types are usually refer to variables used for storing values. Python does not require any explicit declaration to reserve memory space. Declaration happens automatically when values are assigned to it."
   ]
  },
  {
   "cell_type": "markdown",
   "id": "704a08c6",
   "metadata": {},
   "source": [
    "### String Data Type\n",
    "\n",
    "It is a set of contigious characters represented within quotation mark. It may be single or double quotes."
   ]
  },
  {
   "cell_type": "code",
   "execution_count": 48,
   "id": "90a8d353",
   "metadata": {},
   "outputs": [
    {
     "data": {
      "text/plain": [
       "'Hello world.'"
      ]
     },
     "execution_count": 48,
     "metadata": {},
     "output_type": "execute_result"
    }
   ],
   "source": [
    "a_str = \"Hello world.\"\n",
    "a_str"
   ]
  },
  {
   "cell_type": "markdown",
   "id": "801de594",
   "metadata": {},
   "source": [
    "There is a function called, `type` which tells the interpreter what is the type of variable. For example,"
   ]
  },
  {
   "cell_type": "code",
   "execution_count": 49,
   "id": "aed11d8d",
   "metadata": {},
   "outputs": [
    {
     "data": {
      "text/plain": [
       "str"
      ]
     },
     "execution_count": 49,
     "metadata": {},
     "output_type": "execute_result"
    }
   ],
   "source": [
    "type(a_str)"
   ]
  },
  {
   "cell_type": "markdown",
   "id": "8e5703cf",
   "metadata": {},
   "source": [
    "#### String operation - slicing\n",
    "\n",
    "We can do slicing of a string. For example,"
   ]
  },
  {
   "cell_type": "code",
   "execution_count": 52,
   "id": "36cea999",
   "metadata": {},
   "outputs": [
    {
     "data": {
      "text/plain": [
       "'H'"
      ]
     },
     "execution_count": 52,
     "metadata": {},
     "output_type": "execute_result"
    }
   ],
   "source": [
    "a_str[0]\t\t# First character of the string"
   ]
  },
  {
   "cell_type": "code",
   "execution_count": 51,
   "id": "3e5cfe44",
   "metadata": {},
   "outputs": [
    {
     "data": {
      "text/plain": [
       "'Hello'"
      ]
     },
     "execution_count": 51,
     "metadata": {},
     "output_type": "execute_result"
    }
   ],
   "source": [
    "a_str[0:5]\t# First five characters of the string"
   ]
  },
  {
   "cell_type": "markdown",
   "id": "8e0a84f9",
   "metadata": {},
   "source": [
    "#### String operation - concatenation\n",
    "\n",
    "Two or more strings can be joined together. For example,"
   ]
  },
  {
   "cell_type": "code",
   "execution_count": 50,
   "id": "6257517f",
   "metadata": {},
   "outputs": [
    {
     "data": {
      "text/plain": [
       "'veryveryhot'"
      ]
     },
     "execution_count": 50,
     "metadata": {},
     "output_type": "execute_result"
    }
   ],
   "source": [
    "\"Computational\" + \"Physics\"\n",
    "\n",
    "\"very\" + \"hot\"\n",
    "\n",
    "2*\"very\" + \"hot\""
   ]
  },
  {
   "cell_type": "markdown",
   "id": "036339e9",
   "metadata": {},
   "source": [
    "### List data type\n",
    "\n",
    "List is a collection of elements of any type enclosed within square bracket. "
   ]
  },
  {
   "cell_type": "code",
   "execution_count": 53,
   "id": "b8ed6e44",
   "metadata": {},
   "outputs": [
    {
     "data": {
      "text/plain": [
       "list"
      ]
     },
     "execution_count": 53,
     "metadata": {},
     "output_type": "execute_result"
    }
   ],
   "source": [
    "color = ['red', 'blue', 'green']\n",
    "type(color)"
   ]
  },
  {
   "cell_type": "code",
   "execution_count": 54,
   "id": "e4763029",
   "metadata": {},
   "outputs": [
    {
     "data": {
      "text/plain": [
       "'red'"
      ]
     },
     "execution_count": 54,
     "metadata": {},
     "output_type": "execute_result"
    }
   ],
   "source": [
    "color[0]\t# First element of the list"
   ]
  },
  {
   "cell_type": "code",
   "execution_count": 55,
   "id": "51d0044d",
   "metadata": {},
   "outputs": [
    {
     "data": {
      "text/plain": [
       "['red', 'blue']"
      ]
     },
     "execution_count": 55,
     "metadata": {},
     "output_type": "execute_result"
    }
   ],
   "source": [
    "color[0:2]\t# First two elements of the list"
   ]
  },
  {
   "cell_type": "code",
   "execution_count": 56,
   "id": "056a78aa",
   "metadata": {},
   "outputs": [],
   "source": [
    "color.append('yellow')\t# adding new element to the list"
   ]
  },
  {
   "cell_type": "markdown",
   "id": "4dd7f2ba",
   "metadata": {},
   "source": [
    "List elements can be of mixed data type."
   ]
  },
  {
   "cell_type": "code",
   "execution_count": 57,
   "id": "03327b26",
   "metadata": {},
   "outputs": [],
   "source": [
    "a = [1, \"First\", 1.2, 2+1j]"
   ]
  },
  {
   "cell_type": "markdown",
   "id": "b93258a1",
   "metadata": {},
   "source": [
    "#### List manipulation or slicing\n",
    "\n",
    "List manipulation or slicing can be done in the following way -"
   ]
  },
  {
   "cell_type": "code",
   "execution_count": 58,
   "id": "15cc1d8a",
   "metadata": {},
   "outputs": [
    {
     "data": {
      "text/plain": [
       "[0, 1, 2, 3, 4, 5, 6, 7, 8, 9]"
      ]
     },
     "execution_count": 58,
     "metadata": {},
     "output_type": "execute_result"
    }
   ],
   "source": [
    "a = [0, 1, 2, 3, 4, 5, 6, 7, 8, 9, 10]\n",
    "a[:-1]\t# creates a list starting from first element to the last but one element."
   ]
  },
  {
   "cell_type": "code",
   "execution_count": 59,
   "id": "9c7534e0",
   "metadata": {},
   "outputs": [
    {
     "data": {
      "text/plain": [
       "[2, 3, 4, 5, 6]"
      ]
     },
     "execution_count": 59,
     "metadata": {},
     "output_type": "execute_result"
    }
   ],
   "source": [
    "a[2:7]\t# creates a list starting from second element to the sixth element."
   ]
  },
  {
   "cell_type": "code",
   "execution_count": 60,
   "id": "296c019b",
   "metadata": {},
   "outputs": [
    {
     "data": {
      "text/plain": [
       "[1, 3, 5, 7]"
      ]
     },
     "execution_count": 60,
     "metadata": {},
     "output_type": "execute_result"
    }
   ],
   "source": [
    "a[1:9:2]\t# creates a list from fisrt element to the eight element jumping two elements"
   ]
  },
  {
   "cell_type": "code",
   "execution_count": 61,
   "id": "86ba392a",
   "metadata": {},
   "outputs": [
    {
     "data": {
      "text/plain": [
       "[0, 2, 4, 6, 8, 10]"
      ]
     },
     "execution_count": 61,
     "metadata": {},
     "output_type": "execute_result"
    }
   ],
   "source": [
    "a[::2]\t\t# creates a list from starting to the last number jumping two element"
   ]
  },
  {
   "cell_type": "markdown",
   "id": "54ff67d4",
   "metadata": {},
   "source": [
    "#### Adding, inserting, modifying, and removing elements from lists\n",
    "\n",
    "Adding an element to an empty list using `append`."
   ]
  },
  {
   "cell_type": "code",
   "execution_count": 63,
   "id": "7bae35ee",
   "metadata": {},
   "outputs": [
    {
     "name": "stdout",
     "output_type": "stream",
     "text": [
      "[1]\n",
      "[1, 2]\n",
      "[1, 2, 3]\n"
     ]
    }
   ],
   "source": [
    "a = []         # an empty list\n",
    "a.append(1)    # appending '1' to the already empty list\n",
    "print(a)\n",
    "\n",
    "a.append(2)    # appending '2' to the list 'a'\n",
    "print(a)\n",
    "\n",
    "a.append(3)    # # appending '3' to the list 'a'\n",
    "print(a)"
   ]
  },
  {
   "cell_type": "markdown",
   "id": "7dbf3f7f",
   "metadata": {},
   "source": [
    "Elements can be inserted at a particular index location in a list."
   ]
  },
  {
   "cell_type": "code",
   "execution_count": 64,
   "id": "95f88748",
   "metadata": {},
   "outputs": [
    {
     "name": "stdout",
     "output_type": "stream",
     "text": [
      "['apple', 'mango', 'banana', 'grapes']\n"
     ]
    }
   ],
   "source": [
    "fruits = [\"apple\", \"banana\", \"grapes\"]\n",
    "fruits.insert(1, \"mango\")\n",
    "print(fruits)"
   ]
  },
  {
   "cell_type": "markdown",
   "id": "16439684",
   "metadata": {},
   "source": [
    "Lists are mutable. We can modify list by assigning new values to the list."
   ]
  },
  {
   "cell_type": "code",
   "execution_count": 65,
   "id": "7df1b583",
   "metadata": {},
   "outputs": [
    {
     "name": "stdout",
     "output_type": "stream",
     "text": [
      "['First', 2, 3]\n",
      "['First', 'Second', 3]\n",
      "['First', 'Second', 'Third']\n"
     ]
    }
   ],
   "source": [
    "a = [1, 2, 3]\n",
    "a[0] = 'First'\n",
    "print(a)\n",
    "\n",
    "a[1] = 'Second'\n",
    "print(a)\n",
    "\n",
    "a[2] = 'Third'\n",
    "print(a)"
   ]
  },
  {
   "cell_type": "markdown",
   "id": "55137611",
   "metadata": {},
   "source": [
    "We can remove an elemment from a list."
   ]
  },
  {
   "cell_type": "code",
   "execution_count": 67,
   "id": "ff42259f",
   "metadata": {},
   "outputs": [
    {
     "name": "stdout",
     "output_type": "stream",
     "text": [
      "[2, 3, 5, 7, 11, 12, 13]\n"
     ]
    }
   ],
   "source": [
    "prime_num = [2, 3, 5, 6, 7, 11, 12, 13]\n",
    "prime_num.remove(6)\n",
    "print(prime_num)"
   ]
  },
  {
   "cell_type": "code",
   "execution_count": 68,
   "id": "11652096",
   "metadata": {},
   "outputs": [
    {
     "name": "stdout",
     "output_type": "stream",
     "text": [
      "[2, 3, 5, 7, 11, 13]\n"
     ]
    }
   ],
   "source": [
    "del prime_num[5]\n",
    "print(prime_num)"
   ]
  },
  {
   "cell_type": "markdown",
   "id": "e278b853",
   "metadata": {},
   "source": [
    "#### List comprehension using `for` loop\n",
    "\n",
    "Suppose we create an empty list and want to fill it up by square of the first ten natural numbers. This can be implemented by `for` loop in the following way"
   ]
  },
  {
   "cell_type": "code",
   "execution_count": 70,
   "id": "240f5dfe",
   "metadata": {},
   "outputs": [
    {
     "name": "stdout",
     "output_type": "stream",
     "text": [
      "s =  [1, 4, 9, 16, 25, 36, 49, 64, 81, 100]\n"
     ]
    }
   ],
   "source": [
    "s = []  # an empty list\n",
    "for i in range(1, 11):\n",
    "\ts.append(i**2)\n",
    "print(\"s = \",s)"
   ]
  },
  {
   "cell_type": "markdown",
   "id": "38208794",
   "metadata": {},
   "source": [
    "Alternatively, we can write one line code for creating list using"
   ]
  },
  {
   "cell_type": "code",
   "execution_count": 71,
   "id": "d1f997da",
   "metadata": {},
   "outputs": [
    {
     "data": {
      "text/plain": [
       "[1, 4, 9, 16, 25, 36, 49, 64, 81, 100]"
      ]
     },
     "execution_count": 71,
     "metadata": {},
     "output_type": "execute_result"
    }
   ],
   "source": [
    "s = [i**2 for i in range(1,11)];s"
   ]
  },
  {
   "cell_type": "markdown",
   "id": "0058be1e",
   "metadata": {},
   "source": [
    "### Tuple data type\n",
    "\n",
    "Tuples are like lists except that they can not be modified once created, i.e. they are immutable. In Python, elements within tuples are enclosed within parenthesis () or they can be expressed without parenthesis ()."
   ]
  },
  {
   "cell_type": "code",
   "execution_count": 73,
   "id": "8b79fada",
   "metadata": {},
   "outputs": [
    {
     "name": "stdout",
     "output_type": "stream",
     "text": [
      "<class 'tuple'>\n",
      "<class 'tuple'>\n"
     ]
    }
   ],
   "source": [
    "coordinate = (2,1,4)\n",
    "print(type(coordinate))\n",
    "coordinate1 = 1, 2, 5\n",
    "print(type(coordinate1))"
   ]
  },
  {
   "cell_type": "markdown",
   "id": "3eab449d",
   "metadata": {},
   "source": [
    "We can unpack the elements of a tuple."
   ]
  },
  {
   "cell_type": "code",
   "execution_count": 75,
   "id": "6614223a",
   "metadata": {},
   "outputs": [
    {
     "name": "stdout",
     "output_type": "stream",
     "text": [
      "x =  2\n",
      "y =  1\n",
      "z =  4\n"
     ]
    }
   ],
   "source": [
    "x,y,z = coordinate\n",
    "print(\"x = \",x)\n",
    "print(\"y = \",y)\n",
    "print(\"z = \",z)"
   ]
  },
  {
   "cell_type": "markdown",
   "id": "b18e7f91",
   "metadata": {},
   "source": [
    "### Dictionary data type\n",
    "\n",
    "Dictionaries are also like lists, except that each element is a \\textbf{key-value} pair. The syntax for dictionaries is `{key1 : value1, ...}`."
   ]
  },
  {
   "cell_type": "code",
   "execution_count": 76,
   "id": "6540a841",
   "metadata": {},
   "outputs": [
    {
     "name": "stdout",
     "output_type": "stream",
     "text": [
      "{'Parameter1': 1, 'Parameter2': 2, 'Parameter3': 3}\n",
      "Parameter1 = 1\n",
      "Parameter2 = 2\n",
      "Parameter3 = 3\n"
     ]
    }
   ],
   "source": [
    "Parameters = {\"Parameter1\":1, \"Parameter2\":2, \"Parameter3\":3}\n",
    "type(Parameters)\n",
    "\n",
    "print(Parameters)\n",
    "print(\"Parameter1 = \"+str(Parameters[\"Parameter1\"]))\n",
    "print(\"Parameter2 = \"+str(Parameters[\"Parameter2\"]))\n",
    "print(\"Parameter3 = \"+str(Parameters[\"Parameter3\"]))"
   ]
  },
  {
   "cell_type": "code",
   "execution_count": 77,
   "id": "d8f88ba3",
   "metadata": {},
   "outputs": [],
   "source": [
    "# Assigning new values\n",
    "Parameters[\"Parameter1\"] = \"A\"\n",
    "Parameters[\"Parameter2\"] = \"B\""
   ]
  },
  {
   "cell_type": "code",
   "execution_count": 78,
   "id": "0cc87367",
   "metadata": {},
   "outputs": [
    {
     "name": "stdout",
     "output_type": "stream",
     "text": [
      "{'Parameter1': 'A', 'Parameter2': 'B', 'Parameter3': 3, 'Parameter4': 'D'}\n"
     ]
    }
   ],
   "source": [
    "# Adding a new entry\n",
    "Parameters[\"Parameter4\"] = \"D\"\n",
    "print(Parameters)"
   ]
  },
  {
   "cell_type": "markdown",
   "id": "10ce934a",
   "metadata": {},
   "source": [
    "## Output and Input Statements"
   ]
  },
  {
   "cell_type": "markdown",
   "id": "7be761ac",
   "metadata": {},
   "source": [
    "`x = 1` is a very simple assignment statement, which states that we have created a variable `x` and assigned a numerical value 1 to it. To display the value of the variable, we use `print()` function."
   ]
  },
  {
   "cell_type": "code",
   "execution_count": 43,
   "id": "92afc9ee",
   "metadata": {},
   "outputs": [
    {
     "name": "stdout",
     "output_type": "stream",
     "text": [
      "1\n"
     ]
    }
   ],
   "source": [
    "x = 1\n",
    "print(x)"
   ]
  },
  {
   "cell_type": "markdown",
   "id": "d4175f84",
   "metadata": {},
   "source": [
    "`print()` function always displays the current value of the variable."
   ]
  },
  {
   "cell_type": "code",
   "execution_count": 44,
   "id": "4a25704a",
   "metadata": {},
   "outputs": [
    {
     "name": "stdout",
     "output_type": "stream",
     "text": [
      "1\n",
      "2\n"
     ]
    }
   ],
   "source": [
    "x = 1\n",
    "print(x)\n",
    "\n",
    "x = 2\n",
    "print(x)"
   ]
  },
  {
   "cell_type": "markdown",
   "id": "00dbe529",
   "metadata": {},
   "source": [
    "First the value of `x` is assigned the value 1 and `print()` function displays 1. Next, the value of the variable `x` is changed to the value 2 and the value 2 is displayed.\n",
    "\n",
    "Each `print` statemnt starts in a new line. However, we can print the values in one line."
   ]
  },
  {
   "cell_type": "code",
   "execution_count": 45,
   "id": "ddc6436f",
   "metadata": {},
   "outputs": [
    {
     "name": "stdout",
     "output_type": "stream",
     "text": [
      "1 2\n"
     ]
    }
   ],
   "source": [
    "x = 1\n",
    "y = 2\n",
    "\n",
    "print(x, y)"
   ]
  },
  {
   "cell_type": "markdown",
   "id": "271b79dc",
   "metadata": {},
   "source": [
    "We can separate the variables in the `print` statement by using the code `sep='...'`whatever appears between the quotation marks as a separator, appears between values."
   ]
  },
  {
   "cell_type": "code",
   "execution_count": 47,
   "id": "cc78983b",
   "metadata": {},
   "outputs": [
    {
     "name": "stdout",
     "output_type": "stream",
     "text": [
      "1 , 2\n",
      "1 ; 2\n",
      "1 ... 2\n"
     ]
    }
   ],
   "source": [
    "print(x, y, sep=\" , \")\n",
    "print(x, y, sep=\" ; \")\n",
    "print(x, y, sep=\" ... \")"
   ]
  },
  {
   "cell_type": "markdown",
   "id": "d1aa1de5",
   "metadata": {},
   "source": [
    "We can put some words in the `print` statement."
   ]
  },
  {
   "cell_type": "code",
   "execution_count": 49,
   "id": "0a20c01d",
   "metadata": {},
   "outputs": [
    {
     "name": "stdout",
     "output_type": "stream",
     "text": [
      "The value of x =  1  and the value of y =  2\n"
     ]
    }
   ],
   "source": [
    "print('The value of x = ', x, ' and the value of y = ',y)"
   ]
  },
  {
   "cell_type": "markdown",
   "id": "c8e8f365",
   "metadata": {},
   "source": [
    "We can also represent the `print()` in the following way."
   ]
  },
  {
   "cell_type": "code",
   "execution_count": 48,
   "id": "97daa95b",
   "metadata": {},
   "outputs": [
    {
     "name": "stdout",
     "output_type": "stream",
     "text": [
      "The value of x = 1 and the value of y = 2\n"
     ]
    }
   ],
   "source": [
    "print('The value of x = '+str(x)+' and the value of y = '+str(y))"
   ]
  },
  {
   "cell_type": "markdown",
   "id": "2482972f",
   "metadata": {},
   "source": [
    "In the `print()`, we have used the property of string concatenation meaning we can add several strings together. `'The value of x = '` and `' and the value of y = '` are two strings, x and y are although numerical variables, we have type casted them to strings."
   ]
  },
  {
   "cell_type": "markdown",
   "id": "805331a4",
   "metadata": {},
   "source": [
    "Say, x = 1.782345. We want the value to be printed to the 3rd places of decimal. This can be done in this way -"
   ]
  },
  {
   "cell_type": "code",
   "execution_count": 53,
   "id": "8808da28",
   "metadata": {},
   "outputs": [
    {
     "name": "stdout",
     "output_type": "stream",
     "text": [
      "x =    1.782\n",
      "x = 1.782\n"
     ]
    }
   ],
   "source": [
    "x = 1.782345\n",
    "\n",
    "print('x = %8.3f'%x)\n",
    "print('x = %0.3f'%x)"
   ]
  },
  {
   "cell_type": "markdown",
   "id": "df3fd5f5",
   "metadata": {},
   "source": [
    "What is the difference between two print statements?"
   ]
  },
  {
   "cell_type": "markdown",
   "id": "d9095e5e",
   "metadata": {},
   "source": [
    "There is another way we can represent a `print` statement. This is `format` method, particularly useful when we want to represent a data in tabular format."
   ]
  },
  {
   "cell_type": "code",
   "execution_count": 2,
   "id": "5633f5dd",
   "metadata": {},
   "outputs": [
    {
     "name": "stdout",
     "output_type": "stream",
     "text": [
      "x     y    \n",
      "10   215.563\n"
     ]
    }
   ],
   "source": [
    "x = 10\n",
    "y = 215.56347\n",
    "\n",
    "print('{0:5s} {1:5s}'.format('x', 'y'))\n",
    "print('{0:1d} {1:9.3f}'.format(x,y))"
   ]
  },
  {
   "cell_type": "code",
   "execution_count": 59,
   "id": "800f8ac0",
   "metadata": {},
   "outputs": [
    {
     "name": "stdout",
     "output_type": "stream",
     "text": [
      "1\n"
     ]
    }
   ],
   "source": [
    "x = 1; print(x)"
   ]
  },
  {
   "cell_type": "markdown",
   "id": "87867d0d",
   "metadata": {},
   "source": [
    "`x = 1` and the interpreter/computer prints the value 1. If we want to change the value of `x` to some other value, then we have to go to the command line and can make the change. There is an alternative approach, that we can do with `input()` function. If we write `x = input()`, the interpreter/computer will wait for the user to type the value of x."
   ]
  },
  {
   "cell_type": "code",
   "execution_count": 61,
   "id": "0a730232",
   "metadata": {},
   "outputs": [
    {
     "name": "stdout",
     "output_type": "stream",
     "text": [
      "6\n"
     ]
    }
   ],
   "source": [
    "x = input()"
   ]
  },
  {
   "cell_type": "markdown",
   "id": "58b4df74",
   "metadata": {},
   "source": [
    "It is always advisable to put some words within parenthesis under quotation mark describing what the input statement is asking for. For example, if we write"
   ]
  },
  {
   "cell_type": "code",
   "execution_count": 62,
   "id": "cd0c0d3c",
   "metadata": {},
   "outputs": [
    {
     "name": "stdout",
     "output_type": "stream",
     "text": [
      "Enter the value of x: 2\n"
     ]
    }
   ],
   "source": [
    "x = input(\"Enter the value of x: \")"
   ]
  },
  {
   "cell_type": "markdown",
   "id": "7ea196bf",
   "metadata": {},
   "source": [
    "`input` statement acts like a `print` statement and prints whatever appears within parenthesis.\n",
    "\n",
    "But, the surprising fact is that whatever value we enter against the variable is considered as a string by the interprter."
   ]
  },
  {
   "cell_type": "code",
   "execution_count": 64,
   "id": "1e9d2948",
   "metadata": {},
   "outputs": [
    {
     "name": "stdout",
     "output_type": "stream",
     "text": [
      "Enter the value of x: 8\n",
      "The value of x is  8  and its data type is  <class 'str'>\n"
     ]
    }
   ],
   "source": [
    "x = input(\"Enter the value of x: \")\n",
    "print(\"The value of x is \", x, \" and its data type is \", type(x))"
   ]
  },
  {
   "cell_type": "markdown",
   "id": "092b1503",
   "metadata": {},
   "source": [
    "It's quite surprising, since 8 is an integer variable, not a string variable."
   ]
  },
  {
   "cell_type": "code",
   "execution_count": 65,
   "id": "4acaeeff",
   "metadata": {},
   "outputs": [
    {
     "name": "stdout",
     "output_type": "stream",
     "text": [
      "Enter the value of x: hello\n",
      "The value of x is  hello  and its data type is  <class 'str'>\n"
     ]
    }
   ],
   "source": [
    "x = input(\"Enter the value of x: \")\n",
    "print(\"The value of x is \", x, \" and its data type is \", type(x))"
   ]
  },
  {
   "cell_type": "markdown",
   "id": "fae9bac4",
   "metadata": {},
   "source": [
    "So, it is seen that whether it is numerical value or string, `input()` function interpreates it as string. \n",
    "\n",
    "If we do some numerical computation and enter numerical values against input statements, then the values will be stored as string and we can not possible do any numerical calculation !!!! It is something like this."
   ]
  },
  {
   "cell_type": "code",
   "execution_count": 66,
   "id": "c067d83c",
   "metadata": {},
   "outputs": [
    {
     "name": "stdout",
     "output_type": "stream",
     "text": [
      "Enter the value of x: 8\n",
      "Enter the value of y: 9\n",
      "The sum of  8  and  9  is  89\n"
     ]
    }
   ],
   "source": [
    "x = input(\"Enter the value of x: \")\n",
    "y = input(\"Enter the value of y: \")\n",
    "\n",
    "Sum = x + y\n",
    "\n",
    "print(\"The sum of \", x, \" and \", y, \" is \", Sum)"
   ]
  },
  {
   "cell_type": "markdown",
   "id": "ce78582f",
   "metadata": {},
   "source": [
    "The sum of 8 and 9 is 89 !!! it's rediculus. The reason for this rediculus answer is that both the values of x and y are stored as string and under `+` sign string concatenation has taken place.\n",
    "\n",
    "So, How to get rid of this problem? The answer is simple. We have to appropriately *typecaste* the variables."
   ]
  },
  {
   "cell_type": "code",
   "execution_count": 67,
   "id": "c7005be6",
   "metadata": {},
   "outputs": [
    {
     "name": "stdout",
     "output_type": "stream",
     "text": [
      "Enter the value of x: 8\n",
      "Enter the value of y: 9\n",
      "The sum of  8  and  9  is  17\n"
     ]
    }
   ],
   "source": [
    "x = int(input(\"Enter the value of x: \"))\n",
    "y = int(input(\"Enter the value of y: \"))\n",
    "\n",
    "Sum = x + y\n",
    "\n",
    "print(\"The sum of \", x, \" and \", y, \" is \", Sum)"
   ]
  },
  {
   "cell_type": "markdown",
   "id": "63030e2c",
   "metadata": {},
   "source": [
    "and the problem is solved."
   ]
  },
  {
   "cell_type": "markdown",
   "id": "f2f1a967",
   "metadata": {},
   "source": [
    "## Examples\n",
    "\n",
    "With this knowledge, we can develop a linear code (a code which proceeds line by line until the last line is reached)."
   ]
  },
  {
   "cell_type": "markdown",
   "id": "a120cebb",
   "metadata": {},
   "source": [
    "### *How many atoms in the cube?*\n",
    "\n",
    "A solid cube of aluminum (density 2.7 $gm/cm^3$) has a volume of 0.2 $cm^3$. How many aluminum atoms are contained in the cube?"
   ]
  },
  {
   "cell_type": "markdown",
   "id": "52a02b57",
   "metadata": {},
   "source": [
    "We know mass = density x volume. So, first of all, let us find out the mass of the aluminum cube."
   ]
  },
  {
   "cell_type": "code",
   "execution_count": 24,
   "id": "6aac1c93",
   "metadata": {},
   "outputs": [
    {
     "name": "stdout",
     "output_type": "stream",
     "text": [
      "mass of the cube =  0.54\n"
     ]
    }
   ],
   "source": [
    "rho = 2.7\n",
    "vol = 0.2\n",
    "\n",
    "mass = rho*vol\n",
    "print(\"mass of the cube = \", mass)"
   ]
  },
  {
   "cell_type": "markdown",
   "id": "3deaa703",
   "metadata": {},
   "source": [
    "We know that one mole of substance contains Avogadro number ($N_A$) of atoms. Weight of one mole of substance is its atomic weight ($W_a$). Therefore, we can write the relation -\n",
    "\\begin{equation}\n",
    "\\frac{N_A}{W_a} = \\frac{N}{W}\n",
    "\\end{equation}"
   ]
  },
  {
   "cell_type": "code",
   "execution_count": 32,
   "id": "eb4b7462",
   "metadata": {},
   "outputs": [
    {
     "name": "stdout",
     "output_type": "stream",
     "text": [
      "Number of atoms in the cube =1.205e+22 \n"
     ]
    }
   ],
   "source": [
    "Na = 6.023e23\n",
    "wa = 27\n",
    "w  = 0.54\n",
    "\n",
    "N = (w/wa)*Na\n",
    "\n",
    "print(\"Number of atoms in the cube =%0.3e \"%N)"
   ]
  },
  {
   "cell_type": "markdown",
   "id": "78d0a6b1",
   "metadata": {},
   "source": [
    "### *Satellite motion*\n",
    "\n",
    "Consider a satellite moving around the earth in a circular orbit around earth. The tangential velocity $v$ of the satellite is given by\n",
    "\\begin{equation}\n",
    "v = \\sqrt{\\frac{GM_E}{R_E + h}}\n",
    "\\end{equation}\n",
    "\n",
    "If $T$ is the time-period i.e. time taken to complete one revolution around earth, then, it can shown that height of the satellite above earth should be\n",
    "\n",
    "\\begin{equation}\n",
    "h = \\left(\\frac{GM_E T^2}{4\\pi^2}\\right)^{1/3} - R_E\n",
    "\\end{equation}\n",
    "\n",
    "where, $G_E = 6.673 \\times 10^{-11}N.m^2/kg^2$ is the *universal gravitational constant*, $M_E = 5.98 \\times 10^{24} kg$ *mass of the earth*, $R_E = 6.37 \\times 10^6 m$ *radius of the earth*.\n",
    "\n",
    "Let us make an attempt to estimate the height of an *Geosynchronus* satellite.\n",
    "\n",
    ">A geosynchronous orbit (GEO) is a prograde, low inclination orbit about Earth having a period of 23 hours 56 minutes 4 seconds. A spacecraft in geosynchronous orbit appears to remain above Earth at a constant longitude, although it may seem to wander north and south.\n",
    "\n",
    "[GEO](https://solarsystem.nasa.gov/basics/chapter5-1/#:~:text=A%20geosynchronous%20orbit%20(GEO)%20is,to%20wander%20north%20and%20south.)"
   ]
  },
  {
   "cell_type": "code",
   "execution_count": 35,
   "id": "69a15718",
   "metadata": {},
   "outputs": [
    {
     "name": "stdout",
     "output_type": "stream",
     "text": [
      "Height of the Geosynchronus satellite = 35824085.168 meter\n"
     ]
    }
   ],
   "source": [
    "G = 6.673e-11\n",
    "M = 5.98e24\n",
    "R = 6.37e6\n",
    "T = (23*60 + 56)*60 + 4\n",
    "pi = 3.14\n",
    "\n",
    "h = (G*M*T**2/(4*pi**2))**(1/3) - R\n",
    "\n",
    "print(\"Height of the Geosynchronus satellite = %0.3f\"%h,'meter')"
   ]
  },
  {
   "cell_type": "markdown",
   "id": "64f35fe1",
   "metadata": {},
   "source": [
    "## Control Flow\n",
    "\n",
    "Unlike previous cases where program was executed sequentilly line by line, sometime it is necessary to execute a line only when a specific condition is fulfilled.\n",
    "\n",
    "The Python syntax uses the keywords `if`, `elif` (else if), `else`for conditional execution of code.\n",
    "\n",
    "In Python programming language, program blocks are defined by their **indentation level**."
   ]
  },
  {
   "cell_type": "markdown",
   "id": "9f050162",
   "metadata": {},
   "source": [
    "#### Conditional Expressions\n",
    "\n",
    "|Meaning | Math Symbol | Python Symbol|\n",
    "|:-----:|:-----:|:-----:|\n",
    "|Less than | < | <|\n",
    "|Greater than | > | >|\n",
    "|Less than or equal | $\\le$ | <=|\n",
    "|Greater than or equal | $\\ge$ | >=|\n",
    "|Equal | = | ==|\n",
    "|Not equal | $\\ne$ | !=|"
   ]
  },
  {
   "cell_type": "markdown",
   "id": "993209ff",
   "metadata": {},
   "source": [
    "### if statement\n",
    "\n",
    "\n",
    "`if` keyword tells the interpreter if the condtion is true, then implement the next line/lines within `if` block, otherwise skip the block.\n",
    "```\n",
    "if <condition>:\n",
    "    <Statement1>\n",
    "    <Statement2>\n",
    "    etc.\n",
    "```"
   ]
  },
  {
   "cell_type": "code",
   "execution_count": 7,
   "id": "a35aaa43",
   "metadata": {},
   "outputs": [
    {
     "name": "stdout",
     "output_type": "stream",
     "text": [
      "type 1 for True and 2 for False: 1\n",
      "Correct answer\n"
     ]
    }
   ],
   "source": [
    "'''\n",
    "\"Air moves from the region of higher pressure to the region of lower pressure.\" \n",
    "Say, if the statement is True or False.\n",
    "'''\n",
    "statement = input(\"type 1 for True and 2 for False: \")\n",
    "\n",
    "if statement == '1':\n",
    "    print(\"Correct answer\")"
   ]
  },
  {
   "cell_type": "code",
   "execution_count": 8,
   "id": "af2d9ce9",
   "metadata": {},
   "outputs": [
    {
     "name": "stdout",
     "output_type": "stream",
     "text": [
      "type 1 for True and 2 for False: 2\n"
     ]
    }
   ],
   "source": [
    "statement = input(\"type 1 for True and 2 for False: \")\n",
    "\n",
    "if statement == '1':\n",
    "    print(\"Correct answer\")"
   ]
  },
  {
   "cell_type": "markdown",
   "id": "eeb2cb68",
   "metadata": {},
   "source": [
    "From the above two examples, we find that if the condition is true, then if block is executed and we get answer. But, if the condition is not true, then control does not enter the if block and we do not get any answer.\n",
    "\n",
    "So, it is always a good idea to incorporate some alternative conditions too. This can be done by adding `elif` (else if) block and `else` block. The structure of the block is\n",
    "\n",
    "### if-else block\n",
    "\n",
    "```\n",
    "if <condition1>:\n",
    "    <Statement1>     # to be executed if the condition1 is True\n",
    "elif <condition2>:\n",
    "    <Statement2>     # to be executed if the condition1 is False and condition2 is True\n",
    "else:\n",
    "    <Statement3>     # To be executed if the condition1 and condition2 are False\n",
    " ```\n",
    "\n",
    "`elif` statement tells if the previous condition is not fulfilled, then try this one. `else` tells catch anything, which is not caught by the previous conditions.\n",
    "\n",
    "Let us modify the above code."
   ]
  },
  {
   "cell_type": "code",
   "execution_count": 11,
   "id": "61b5875c",
   "metadata": {},
   "outputs": [
    {
     "name": "stdout",
     "output_type": "stream",
     "text": [
      "type 1 for True and 2 for False: 3\n",
      "You have typed wrong number.\n"
     ]
    }
   ],
   "source": [
    "'''\n",
    "\"Air moves from the region of higher pressure to the region of lower pressure.\" \n",
    "Say, if the statement is True or False.\n",
    "'''\n",
    "statement = input(\"type 1 for True and 2 for False: \")\n",
    "\n",
    "if statement == '1':\n",
    "    print(\"Correct answer\")\n",
    "elif statement == '2':\n",
    "    print(\"Wrong answer\")\n",
    "else:\n",
    "    print(\"You have typed wrong number.\")"
   ]
  },
  {
   "cell_type": "markdown",
   "id": "d60377cf",
   "metadata": {},
   "source": [
    "## Example\n",
    "\n",
    "### *Odd or even*\n",
    "\n",
    "To test whether a given number is odd or even.\n",
    "\n",
    ">A number is even, if it is divisible by 2 and remainder is 0. We can find remainder by modulo operator `%`."
   ]
  },
  {
   "cell_type": "code",
   "execution_count": 12,
   "id": "bb6535d5",
   "metadata": {},
   "outputs": [
    {
     "name": "stdout",
     "output_type": "stream",
     "text": [
      "Enter a number: 3\n",
      "The number is ODD.\n"
     ]
    }
   ],
   "source": [
    "x = float(input(\"Enter a number: \"))\n",
    "\n",
    "if x%2 == 0:\n",
    "    print(\"The number is EVEN.\")\n",
    "else:\n",
    "    print(\"The number is ODD.\")"
   ]
  },
  {
   "cell_type": "markdown",
   "id": "5d994265",
   "metadata": {},
   "source": [
    "### *Prime number*\n",
    "\n",
    "To find  a set of prime numbers between two given numbers.\n",
    ">A number which is divisible by 1 and itself is called a **prime number**.\n",
    "\n",
    "Our approach will be to check whther the number is divisible by all numbers between 1 and the number itself excluding 1 and the number itself."
   ]
  },
  {
   "cell_type": "code",
   "execution_count": 33,
   "id": "53417ff3",
   "metadata": {},
   "outputs": [
    {
     "name": "stdout",
     "output_type": "stream",
     "text": [
      "70 is not a prime number.\n"
     ]
    }
   ],
   "source": [
    "result = True\n",
    "num = 70\n",
    "if num > 1:\n",
    "    for n in range(2, num):\n",
    "        if (num % n) == 0:\n",
    "            result = False\n",
    "            break\n",
    "\n",
    "if result == True:\n",
    "    print(str(num) + \" is a Prime number\")\n",
    "else:\n",
    "    print(str(num) + \" is not a prime number.\")"
   ]
  },
  {
   "cell_type": "markdown",
   "id": "5d34f33f",
   "metadata": {},
   "source": [
    "## Loops\n",
    "\n",
    "When same piece of code has to be repeated number of times, we use loop. Here, we shall discuss two varieties -\n",
    "*   `while`\n",
    "*   `for`\n",
    "\n",
    "\n",
    "### `while` loop\n",
    "\n",
    "`while` condition tells so long condition is true, looping/iteration will continue.\n",
    "\n",
    "```python\n",
    "while condition:\n",
    "       statement\n",
    "```       "
   ]
  },
  {
   "cell_type": "code",
   "execution_count": null,
   "id": "c9f63fe7",
   "metadata": {},
   "outputs": [],
   "source": [
    "# Rocket blast\n",
    "\n",
    "time = 5\n",
    "\n",
    "while time >=0:\n",
    "    print(time)\n",
    "    time -= 1\n",
    "    \n",
    "print(\"Blast !!!\")"
   ]
  },
  {
   "cell_type": "code",
   "execution_count": null,
   "id": "eb35a043",
   "metadata": {},
   "outputs": [],
   "source": [
    "# Sum of first ten natural numbers\n",
    "\n",
    "num = 1\n",
    "sum = 0\n",
    "while num <= 10:\n",
    "    sum += num\n",
    "    num += 1\n",
    "print(\"sum = \"+str(sum))"
   ]
  },
  {
   "cell_type": "markdown",
   "id": "7ea18136",
   "metadata": {},
   "source": [
    "### Example - *Performing a sum*\n",
    "\n",
    "Sum the series $$\\sum_{k=1}^{100}\\frac{1}{k}$$"
   ]
  },
  {
   "cell_type": "code",
   "execution_count": 41,
   "id": "e32478f0",
   "metadata": {},
   "outputs": [
    {
     "name": "stdout",
     "output_type": "stream",
     "text": [
      "Sum = 5.19\n"
     ]
    }
   ],
   "source": [
    "# By using WHILE loop\n",
    "\n",
    "# First initialize the variables\n",
    "num = 0      # number\n",
    "Sum= 0       # summation\n",
    "\n",
    "# start looping operation\n",
    "while num < 100:\n",
    "    num += 1\n",
    "    Sum += 1/num\n",
    "\n",
    "print(\"Sum = %0.2f\"%Sum)"
   ]
  },
  {
   "cell_type": "markdown",
   "id": "77c8c5a8",
   "metadata": {},
   "source": [
    "### Example - *The Fibonacci Sequence*\n",
    "\n",
    ">The Fibonacci numbers are the sequence of integers in which each is the sum of the previous two, with the first two numbers being 1, 1. Thus the first few members of the sequence are 1, 1, 2, 3, 5, 8, 13, 21. \n",
    "\n",
    "Calculate the Fibonacci numbers up to 100. "
   ]
  },
  {
   "cell_type": "code",
   "execution_count": 88,
   "id": "92d63f3f",
   "metadata": {},
   "outputs": [
    {
     "name": "stdout",
     "output_type": "stream",
     "text": [
      "1\n",
      "1\n",
      "2\n",
      "3\n",
      "5\n",
      "8\n",
      "13\n",
      "21\n",
      "34\n",
      "55\n",
      "89\n"
     ]
    }
   ],
   "source": [
    "f1, f2 = 1, 1\n",
    "while f1<=100:\n",
    "    print(f1)\n",
    "    f1,f2 = f2,f1+f2"
   ]
  },
  {
   "cell_type": "markdown",
   "id": "7bc7e84e",
   "metadata": {},
   "source": [
    "### `while` loop with `break` \n",
    "\n",
    "`while` condition tells the computer to continue looping/iteration if **condition1** is `true` and **condition2** is `false`. Once **condition2** is `true`, looping/iteration will discontinue and control will come out of the `while` block.\n",
    "\n",
    "```python\n",
    "while condition1:\n",
    "      statment         # if condition1 is true\n",
    "    if condition2:\n",
    "          break        # if condition2 is true\n",
    " ```   "
   ]
  },
  {
   "cell_type": "code",
   "execution_count": null,
   "id": "1e71c70a",
   "metadata": {},
   "outputs": [],
   "source": [
    "# Tossing a dice\n",
    "\n",
    "import random\n",
    "\n",
    "target = 6\n",
    "no_trial = 10\n",
    "n = 1\n",
    "\n",
    "while n < no_trial:\n",
    "    toss = random.randrange(1, 7)\n",
    "    print(\"In throw number \"+ str(n) + \" the output is \"+ str(toss))\n",
    "    if toss == target:\n",
    "        print('OK, you can start the game.')\n",
    "        break\n",
    "    n += 1"
   ]
  },
  {
   "cell_type": "markdown",
   "id": "310c603e",
   "metadata": {},
   "source": [
    "### `while` loop with `continue` \n",
    "\n",
    "`while` condition tells the computer to continue looping/iteration. In this looping/iteration, if the **condition2** becomes `true` only that step is skipped, but iteration continue until `while` condition is `true`. \n",
    "\n",
    "```python\n",
    "while condition1:\n",
    "    statment1\n",
    "    if condition2:\n",
    "        continue\n",
    " ```         "
   ]
  },
  {
   "cell_type": "code",
   "execution_count": null,
   "id": "ef7236e8",
   "metadata": {},
   "outputs": [],
   "source": [
    "# Sum of first ten natural numbers not divisible by 3\n",
    "\n",
    "n = 0\n",
    "sum = 0\n",
    "while n <= 9:\n",
    "    n += 1\n",
    "    if n%3 == 0:\n",
    "        continue\n",
    "    print(n)\n",
    "    sum += n\n",
    "print('Sum = ',sum) "
   ]
  },
  {
   "cell_type": "markdown",
   "id": "8403b3ae",
   "metadata": {},
   "source": [
    "### `for` loop\n",
    "\n",
    "```python\n",
    "for item in Sequence:\n",
    "    indented block of execution\n",
    "  ```    \n",
    "looping continues until the last value of the sequence is reached."
   ]
  },
  {
   "cell_type": "code",
   "execution_count": 87,
   "id": "ed075fa6",
   "metadata": {},
   "outputs": [
    {
     "name": "stdout",
     "output_type": "stream",
     "text": [
      "Vowel : a\n",
      "Within for block\n",
      "Vowel : e\n",
      "Within for block\n",
      "Vowel : i\n",
      "Within for block\n",
      "Vowel : o\n",
      "Within for block\n",
      "Vowel : u\n",
      "Within for block\n",
      "Complete. Outside for block.\n"
     ]
    }
   ],
   "source": [
    "vowels = ['a', 'e', 'i', 'o', 'u']\n",
    "\n",
    "for letter in vowels:\n",
    "    print(\"Vowel : %s\"%letter)\n",
    "    print(\"Within for block\")\n",
    "print(\"Complete. Outside for block.\")"
   ]
  },
  {
   "cell_type": "code",
   "execution_count": 34,
   "id": "ac49ae50",
   "metadata": {},
   "outputs": [
    {
     "name": "stdout",
     "output_type": "stream",
     "text": [
      "apple\n",
      "orange\n",
      "banana\n"
     ]
    }
   ],
   "source": [
    "for fruit in ['apple', 'orange', 'banana']:\n",
    "    print(fruit)"
   ]
  },
  {
   "cell_type": "code",
   "execution_count": 35,
   "id": "f518fe3c",
   "metadata": {},
   "outputs": [
    {
     "name": "stdout",
     "output_type": "stream",
     "text": [
      "red\n",
      "blue\n",
      "green\n"
     ]
    }
   ],
   "source": [
    "for color in ['red', 'blue', 'green']:\n",
    "    print(color)"
   ]
  },
  {
   "cell_type": "code",
   "execution_count": 36,
   "id": "79aab464",
   "metadata": {},
   "outputs": [
    {
     "name": "stdout",
     "output_type": "stream",
     "text": [
      "1\n",
      "2\n",
      "3\n"
     ]
    }
   ],
   "source": [
    "for x in [1, 2, 3]:\n",
    "    print(x)"
   ]
  },
  {
   "cell_type": "code",
   "execution_count": 37,
   "id": "93e99f94",
   "metadata": {},
   "outputs": [
    {
     "name": "stdout",
     "output_type": "stream",
     "text": [
      "Yes\n",
      "YesYes\n",
      "YesYesYes\n"
     ]
    }
   ],
   "source": [
    "for number in [1, 2, 3]:\n",
    "    print('Yes'*number)"
   ]
  },
  {
   "cell_type": "code",
   "execution_count": 38,
   "id": "add437c1",
   "metadata": {},
   "outputs": [
    {
     "name": "stdout",
     "output_type": "stream",
     "text": [
      "Basic\n",
      "Python\n",
      "Programming\n"
     ]
    }
   ],
   "source": [
    "for word in ['Basic', 'Python', 'Programming']:\n",
    "    print(word)"
   ]
  },
  {
   "cell_type": "code",
   "execution_count": 39,
   "id": "bd80b85d",
   "metadata": {},
   "outputs": [
    {
     "name": "stdout",
     "output_type": "stream",
     "text": [
      "0 -3\n",
      "1 -2\n",
      "2 -1\n",
      "3 0\n",
      "4 1\n",
      "5 2\n",
      "6 3\n"
     ]
    }
   ],
   "source": [
    "for i, n in enumerate([-3, -2, -1, 0, 1, 2, 3]):\n",
    "    print(i, n)"
   ]
  },
  {
   "cell_type": "markdown",
   "id": "cf7585f0",
   "metadata": {},
   "source": [
    "### In built iterator function - `range`\n",
    "\n",
    "Suppose, we want repeat a particular task, say 10 times or even more, in which case, we can create a `for` loop as follows -"
   ]
  },
  {
   "cell_type": "code",
   "execution_count": 46,
   "id": "51253749",
   "metadata": {},
   "outputs": [
    {
     "name": "stdout",
     "output_type": "stream",
     "text": [
      "1\n",
      "2\n",
      "3\n",
      "4\n",
      "5\n",
      "6\n",
      "7\n",
      "8\n",
      "9\n",
      "10\n"
     ]
    }
   ],
   "source": [
    "a = [1, 2, 3, 4, 5, 6, 7, 8, 9, 10]\n",
    "\n",
    "for num in a:\n",
    "    print(num)"
   ]
  },
  {
   "cell_type": "markdown",
   "id": "62ddfefd",
   "metadata": {},
   "source": [
    "Technically, a `for` loop is a loop that runs through the element of a list ('list' will be discussed in section). Consider a list of first ten natural numbers and we want print them one by one. This can be implemented as follows -"
   ]
  },
  {
   "cell_type": "markdown",
   "id": "bfee9129",
   "metadata": {},
   "source": [
    "There is an inbuilt function called `range` in python which can iterate numbers for the `for` loop."
   ]
  },
  {
   "cell_type": "code",
   "execution_count": 42,
   "id": "a7de8207",
   "metadata": {},
   "outputs": [
    {
     "name": "stdout",
     "output_type": "stream",
     "text": [
      "0\n",
      "1\n",
      "2\n",
      "3\n",
      "4\n",
      "5\n",
      "6\n",
      "7\n",
      "8\n",
      "9\n"
     ]
    }
   ],
   "source": [
    "for i in range(10):\n",
    "    print(i)"
   ]
  },
  {
   "cell_type": "markdown",
   "id": "19fd8f3e",
   "metadata": {},
   "source": [
    "A `range` function starts with 0 and ends with one less than the number mentioned in the `range` function. The syntax of `range` function is\n",
    "\n",
    ">```range(start, stop, step)```\n",
    "\n",
    "Suppose we want to generate number from 1 to 10, with step size 2. This can be implemented as follows -"
   ]
  },
  {
   "cell_type": "code",
   "execution_count": 43,
   "id": "618fa688",
   "metadata": {},
   "outputs": [
    {
     "data": {
      "text/plain": [
       "[1, 3, 5, 7, 9]"
      ]
     },
     "execution_count": 43,
     "metadata": {},
     "output_type": "execute_result"
    }
   ],
   "source": [
    "a = [i for i in range(1, 10, 2)]; a"
   ]
  },
  {
   "cell_type": "markdown",
   "id": "acc27129",
   "metadata": {},
   "source": [
    "### Example - Emission Lines of Hydrogen Atom\n",
    "\n",
    "Write a program for calculating the wavelengths of emission lines in the spectrum of the hydrogen atom, based on the Rydberg formula\n",
    "\\begin{equation}\n",
    "\\frac{1}{\\lambda}=R\\left(\\frac{1}{m^2} - \\frac{1}{n^2}\\right)\n",
    "\\end{equation}"
   ]
  },
  {
   "cell_type": "code",
   "execution_count": 44,
   "id": "49e76ab9",
   "metadata": {},
   "outputs": [
    {
     "name": "stdout",
     "output_type": "stream",
     "text": [
      "Series for  Lyman\n",
      "______________________________\n",
      " \n",
      "  121.5436037678517  nm\n",
      "  102.55241567912488  nm\n",
      "  97.23488301428137  nm\n",
      "  94.95594044363415  nm\n",
      "______________________________\n",
      " \n",
      "Series for  Blamer\n",
      "______________________________\n",
      " \n",
      "  656.3354603463993  nm\n",
      "  486.1744150714068  nm\n",
      "  434.084299170899  nm\n",
      "  410.2096627164995  nm\n",
      "______________________________\n",
      " \n",
      "Series for  Paschen\n",
      "______________________________\n",
      " \n",
      "  1875.2441724182836  nm\n",
      "  1281.9051959890612  nm\n",
      "  1093.8924339106654  nm\n",
      "  1005.013673655424  nm\n",
      "______________________________\n",
      " \n",
      "Series for  Bracket\n",
      "______________________________\n",
      " \n",
      "  4051.453458928391  nm\n",
      "  2625.341841385597  nm\n",
      "  2165.68603077263  nm\n",
      "  1944.6976602856273  nm\n",
      "______________________________\n",
      " \n",
      "Series for  Pfund\n",
      "______________________________\n",
      " \n",
      "  7458.357503936354  nm\n",
      "  4652.841081738073  nm\n",
      "  3739.8031928569753  nm\n",
      "  3296.3276468290137  nm\n",
      "______________________________\n",
      " \n"
     ]
    }
   ],
   "source": [
    "R = 1.097e-2\n",
    "\n",
    "spectralName = [\"Lyman\", \"Blamer\", \"Paschen\", \"Bracket\", \"Pfund\"]\n",
    "for n in range(1,6):\n",
    "    print(\"Series for \",spectralName[n-1])\n",
    "    print(\"______________________________\")\n",
    "    print(\" \")\n",
    "    for m in range(n+1, n+5):\n",
    "        invlambda = R*(1/n**2-1/m**2)\n",
    "        print(\" \",1/invlambda,\" nm\")\n",
    "    print(\"______________________________\")\n",
    "    print(\" \")"
   ]
  },
  {
   "cell_type": "markdown",
   "id": "8746b5c9",
   "metadata": {},
   "source": [
    "## User defined Function\n",
    "\n",
    "A function is basically a piece of program code encapsulated with a name such that whenever it is called, it perform the specific job. For example, the factorial of a number may be required to be calculated several times in a program code. We know that the factorial of a number $n$ is defined as the product of all numbers from 1 upto $n$. So, we may write the following piece of code to find the factorial of a number $n$."
   ]
  },
  {
   "cell_type": "code",
   "execution_count": 79,
   "id": "e0011d99",
   "metadata": {},
   "outputs": [
    {
     "name": "stdout",
     "output_type": "stream",
     "text": [
      "Factorial of 5 is equal to 120\n"
     ]
    }
   ],
   "source": [
    "fact = 1\n",
    "num = 5\n",
    "for i in range(1, num + 1):\n",
    "\tfact *= i\n",
    "print(\"Factorial of \"+str(num)+\" is equal to \"+str(fact))"
   ]
  },
  {
   "cell_type": "markdown",
   "id": "089d4198",
   "metadata": {},
   "source": [
    "We can encapsulate the above piece of code and define it as a function. \n",
    "\n",
    "A function in Python is defined using the keyword `def`, followed by a function name, number of arguments (which are input variables) within parentheses (), and a colon :\n",
    "\n",
    "So, we can define the factorial function in the following way -"
   ]
  },
  {
   "cell_type": "code",
   "execution_count": 80,
   "id": "31d6df47",
   "metadata": {},
   "outputs": [
    {
     "name": "stdout",
     "output_type": "stream",
     "text": [
      "Factorial of 5 is equal to 120\n"
     ]
    }
   ],
   "source": [
    "def factorial(n):\n",
    "\tfact = 1\n",
    "\tnum = n\n",
    "\tfor i in range(1, num + 1):\n",
    "\t\tfact *= i\n",
    "\treturn fact\n",
    "\n",
    "n = 5\n",
    "fact = factorial(n)\n",
    "print(\"Factorial of \"+str(n)+\" is equal to \"+str(fact))"
   ]
  },
  {
   "cell_type": "markdown",
   "id": "ee2e6557",
   "metadata": {},
   "source": [
    "User defined function can have more than one arguments. For example, if we have a point in cylindrical coordinate ($r,\\theta,z$) and we have to calculate the distance between the point and the origin, we can define a function with arguments as $r$, $\\theta$ and $z$ and return the value $d$ (distance between the orgin and the point). The simplest way to address this problem is to express $r$ and $\\theta$ in terms of cartesian coordinate ($x,y,z$) as follows -\n",
    "\n",
    "\\begin{equation}\n",
    "\\begin{aligned}\n",
    "\t&x = r\\cos\\theta \\\\\n",
    "\t&x = r\\cos\\theta \\\\\n",
    "\t&z = z\n",
    "    \\end{aligned}\n",
    "\\end{equation}\n",
    "\n",
    "Applying Pythagorus theorem, distance (d) can be expressed as\n",
    "\n",
    "\\begin{equation}\n",
    "\td = \\sqrt{(r\\cos\\theta)^2 + (r\\sin\\theta)^2 + z^2}\n",
    "\\end{equation}\n",
    "So, the python implementation of the above problem is"
   ]
  },
  {
   "cell_type": "code",
   "execution_count": 81,
   "id": "a1b56cf8",
   "metadata": {},
   "outputs": [
    {
     "name": "stdout",
     "output_type": "stream",
     "text": [
      "Distance = 10.77\n"
     ]
    }
   ],
   "source": [
    "from math import *\n",
    "\n",
    "def func(r, theta, z):\n",
    "    x = r*cos(theta*pi/180)\n",
    "    y = r*sin(theta*pi/180)\n",
    "    d = sqrt(x**2 + y**2 + z**2)\n",
    "    return d\n",
    "\n",
    "dist = func(4, 30, 10)\n",
    "print(\"Distance = %0.2f\"%dist)"
   ]
  },
  {
   "cell_type": "markdown",
   "id": "4036aaeb",
   "metadata": {},
   "source": [
    "## Lambda function\n",
    "\n",
    "There is an easy way to describe a function when it is relatively of simple type. For example, a function $f(x)=x^2$ may be described as"
   ]
  },
  {
   "cell_type": "code",
   "execution_count": 82,
   "id": "138e40ca",
   "metadata": {},
   "outputs": [
    {
     "data": {
      "text/plain": [
       "4"
      ]
     },
     "execution_count": 82,
     "metadata": {},
     "output_type": "execute_result"
    }
   ],
   "source": [
    "f = lambda x: x**2\n",
    "f(2)"
   ]
  },
  {
   "cell_type": "markdown",
   "id": "3e0dc5f9",
   "metadata": {},
   "source": [
    "### Example - *Rectilinear motion*\n",
    "\n",
    "A car starts with an initial velocity 5 km/h and moves with an uniform acceleration 50 $km/h^2$. To find the distance covered in any time 't', we use the kinematic relation\n",
    "\n",
    "\\begin{equation}\n",
    "s = ut + \\frac{1}{2}at^2\n",
    "\\end{equation}\n",
    "\n",
    "where, \"s\" is the distance covered in time \"t\", \"u\" is the initial velocity and \"a\" is the acceleration. To find the position of the car at every consecuutive hour, we can simply define a function with \"s\" with \"t\" as independent variable and \"u\", \"a\" as static parameters."
   ]
  },
  {
   "cell_type": "code",
   "execution_count": 85,
   "id": "cc0223c8",
   "metadata": {},
   "outputs": [
    {
     "name": "stdout",
     "output_type": "stream",
     "text": [
      "Distance covered in 1 hour = 35.0 km.\n",
      "Distance covered in 2 hour = 120.0 km.\n",
      "Distance covered in 3 hour = 255.0 km.\n",
      "Distance covered in 4 hour = 440.0 km.\n"
     ]
    }
   ],
   "source": [
    "# Basic parameter\n",
    "u = 10    # initial velocity\n",
    "a = 50    # uniform acceleration\n",
    "\n",
    "#Defining a function\n",
    "s = lambda t: u*t + 0.5*a*t**2\n",
    "\n",
    "#Evaluation\n",
    "for n in range(1, 5):\n",
    "    print(\"Distance covered in \"+str(n)+ \" hour = \"+str(s(n))+\" km.\")"
   ]
  },
  {
   "cell_type": "markdown",
   "id": "3145f730",
   "metadata": {},
   "source": [
    "Writing comment is a good habit while documenting a code. Anything written after # is not executible by python interpreter. The above result can be expressed in tabular format also."
   ]
  },
  {
   "cell_type": "code",
   "execution_count": 86,
   "id": "ea0bd942",
   "metadata": {},
   "outputs": [
    {
     "name": "stdout",
     "output_type": "stream",
     "text": [
      "Distance covered:\n",
      "-----------------------\n",
      "time           distance  \n",
      "-----------------------\n",
      " 0                 0.0\n",
      " 1                35.0\n",
      " 2               120.0\n",
      " 3               255.0\n",
      " 4               440.0\n",
      "-----------------------\n"
     ]
    }
   ],
   "source": [
    "print(\"Distance covered:\")\n",
    "print(\"-----------------------\")\n",
    "print(\"{0:10s}{1:5s}{2:10s}\".format('time', '', 'distance'))\n",
    "print(\"-----------------------\")\n",
    "for t in range(5):\n",
    "    print(\"{0:2d}{1:15s}{2:5.1f}\".format(t, '',s(t)))\n",
    "print(\"-----------------------\")"
   ]
  },
  {
   "cell_type": "markdown",
   "id": "38799dd4",
   "metadata": {},
   "source": [
    "## Functions, Packages and Modules\n",
    "\n",
    "Some large packages are split into smaller subpackages, called **module**. A module within a large package is referred to as `packagename.modulename`.<br>\n",
    "For example, to calculate the inverse of a matrix, we import **inverse function** from the **linear algebra module** as\n",
    "\n",
    "```python\n",
    "    from numpy.linalg import inv\n",
    "```\n",
    "\n",
    "### Looking at what a module contains\n",
    "\n",
    "Once a module is imported, we can list the symbols it provides using the `dir` function:"
   ]
  },
  {
   "cell_type": "code",
   "execution_count": 90,
   "id": "f4870ded",
   "metadata": {},
   "outputs": [
    {
     "name": "stdout",
     "output_type": "stream",
     "text": [
      "['__doc__', '__loader__', '__name__', '__package__', '__spec__', 'acos', 'acosh', 'asin', 'asinh', 'atan', 'atan2', 'atanh', 'ceil', 'copysign', 'cos', 'cosh', 'degrees', 'e', 'erf', 'erfc', 'exp', 'expm1', 'fabs', 'factorial', 'floor', 'fmod', 'frexp', 'fsum', 'gamma', 'gcd', 'hypot', 'inf', 'isclose', 'isfinite', 'isinf', 'isnan', 'ldexp', 'lgamma', 'log', 'log10', 'log1p', 'log2', 'modf', 'nan', 'pi', 'pow', 'radians', 'remainder', 'sin', 'sinh', 'sqrt', 'tan', 'tanh', 'tau', 'trunc']\n"
     ]
    },
    {
     "data": {
      "text/plain": [
       "2.0"
      ]
     },
     "execution_count": 90,
     "metadata": {},
     "output_type": "execute_result"
    }
   ],
   "source": [
    "import math\n",
    "\n",
    "print(dir(math))"
   ]
  },
  {
   "cell_type": "markdown",
   "id": "b28c5a45",
   "metadata": {},
   "source": [
    "To find the square root of 16, we import `sqrt` function from `math` package."
   ]
  },
  {
   "cell_type": "code",
   "execution_count": 92,
   "id": "43fa355c",
   "metadata": {},
   "outputs": [
    {
     "data": {
      "text/plain": [
       "2.0"
      ]
     },
     "execution_count": 92,
     "metadata": {},
     "output_type": "execute_result"
    }
   ],
   "source": [
    "from math import sqrt\n",
    "sqrt(4)"
   ]
  },
  {
   "cell_type": "markdown",
   "id": "112c5b07",
   "metadata": {},
   "source": [
    "### Example\n",
    "\n",
    "Suppose the position of a point in two-dimensional space is given to us in polar coordinate $r, \\theta$ and we want to convert it into Cartesian coordinate $x, y$.\n",
    "\n",
    "Steps:\n",
    "1.  Enter the values of $r$ and $\\theta$.\n",
    "2.  Convert the values to Cartesian corodinate using appropriate formulas:\n",
    "$$x = r\\cos\\theta:~ y=r\\sin\\theta$$\n",
    "3.  Print the result"
   ]
  },
  {
   "cell_type": "code",
   "execution_count": 102,
   "id": "ac5f79db",
   "metadata": {},
   "outputs": [
    {
     "name": "stdout",
     "output_type": "stream",
     "text": [
      "Enter the value of r : 5\n",
      "Enter the value of theta in degree : 65\n",
      "\n",
      " The value of x: 2.11\n",
      " and the value of y: 4.53\n"
     ]
    }
   ],
   "source": [
    "from math import sin, cos\n",
    "from numpy import radians\n",
    "\n",
    "r     = float(input(\"Enter the value of r : \"))\n",
    "theta = float(input(\"Enter the value of theta in degree : \"))\n",
    "\n",
    "x = r*cos(radians(theta))\n",
    "y = r*sin(radians(theta))\n",
    "\n",
    "print(\"\\n The value of x: \" + str(round(x, 2)) + \"\\n and the value of y: \" +str(round(y, 2)))"
   ]
  },
  {
   "cell_type": "markdown",
   "id": "dfb9d42e",
   "metadata": {},
   "source": [
    "### Example - *Converting Cartesian corordinates to Polar Coordinates*\n",
    "\n",
    "Write a program that asks the user for the Cartesian coordinates $x, y$ of a point in two-dimensional space, and calculate and print the corresponding polar coordinates, with the angle $\\theta$ given in degrees."
   ]
  },
  {
   "cell_type": "code",
   "execution_count": 103,
   "id": "834a87ee",
   "metadata": {},
   "outputs": [
    {
     "name": "stdout",
     "output_type": "stream",
     "text": [
      "Enter the value of x : 5\n",
      "Enter the value of y : 3\n",
      "The value of r: 5.83 and the value of θ (degree): 30.96\n"
     ]
    }
   ],
   "source": [
    "# Converting Cartesian to Polar coordinates\n",
    "from math import *\n",
    "\n",
    "x = float(input(\"Enter the value of x : \"))\n",
    "y = float(input(\"Enter the value of y : \"))\n",
    "\n",
    "r = sqrt( x**2 + y**2 )\n",
    "θ = degrees(atan2(y, x))\n",
    "\n",
    "print(\"The value of r: \" + str(round(r, 2)) + \" and the value of θ (degree): \" +str(round(θ, 2)))"
   ]
  },
  {
   "cell_type": "markdown",
   "id": "240b5831",
   "metadata": {},
   "source": [
    "# Bibliography:\n",
    "```\n",
    "{bibliography}\n",
    "```"
   ]
  }
 ],
 "metadata": {
  "kernelspec": {
   "display_name": "Python 3",
   "language": "python",
   "name": "python3"
  },
  "language_info": {
   "codemirror_mode": {
    "name": "ipython",
    "version": 3
   },
   "file_extension": ".py",
   "mimetype": "text/x-python",
   "name": "python",
   "nbconvert_exporter": "python",
   "pygments_lexer": "ipython3",
   "version": "3.7.6"
  }
 },
 "nbformat": 4,
 "nbformat_minor": 5
}